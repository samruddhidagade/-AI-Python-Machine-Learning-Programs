{
 "cells": [
  {
   "cell_type": "code",
   "execution_count": null,
   "id": "37c7b060",
   "metadata": {},
   "outputs": [],
   "source": [
    "Prog 1 : DFS (Depth First Search)"
   ]
  },
  {
   "cell_type": "code",
   "execution_count": 1,
   "id": "ea802b49",
   "metadata": {},
   "outputs": [
    {
     "name": "stdout",
     "output_type": "stream",
     "text": [
      "0\n",
      "2\n",
      "1\n",
      "3\n",
      "4\n"
     ]
    },
    {
     "data": {
      "text/plain": [
       "{'0', '1', '2', '3', '4'}"
      ]
     },
     "execution_count": 1,
     "metadata": {},
     "output_type": "execute_result"
    }
   ],
   "source": [
    "# DFS algorithm in python\n",
    "\n",
    "def dfs(graph,start,visited=None):\n",
    "    if visited is None:\n",
    "        visited = set()\n",
    "    visited.add(start)\n",
    "    \n",
    "    print(start)\n",
    "    \n",
    "    for next in graph[start] - visited:\n",
    "        dfs(graph,next,visited)\n",
    "    return visited\n",
    "graph = {'0' : set(['1','2']),\n",
    "         '1' : set(['0','3','4']),\n",
    "         '2' : set(['0']),\n",
    "         '3' : set(['1']),\n",
    "         '4' : set(['2','3'])}\n",
    "dfs(graph,'0')"
   ]
  },
  {
   "cell_type": "code",
   "execution_count": null,
   "id": "26b8ce5f",
   "metadata": {},
   "outputs": [],
   "source": [
    "Prog 2 : BFS (Breadth First Search)"
   ]
  },
  {
   "cell_type": "code",
   "execution_count": 6,
   "id": "420daebe",
   "metadata": {},
   "outputs": [
    {
     "name": "stdout",
     "output_type": "stream",
     "text": [
      "A B C D E F "
     ]
    }
   ],
   "source": [
    "graph = {\n",
    "    'A' : ['B','C'],\n",
    "    'B' : ['D','E'],\n",
    "    'C' : ['F'],\n",
    "    'D' : [],\n",
    "    'E' : ['F'],\n",
    "    'F' : []\n",
    "}\n",
    "\n",
    "visited = [] #List to keep track of visited nodes.\n",
    "queue = [] #Intialize a queue\n",
    "\n",
    "def bfs(visited,graph,node):\n",
    "    visited.append(node)\n",
    "    queue.append(node)\n",
    "    \n",
    "    while queue:\n",
    "        s = queue.pop(0)\n",
    "        print(s,end = \" \")\n",
    "        \n",
    "        for neighbour in graph[s]:\n",
    "            if neighbour not in visited:\n",
    "                visited.append(neighbour)\n",
    "                queue.append(neighbour)\n",
    "            \n",
    "#Drive Code\n",
    "bfs(visited, graph, 'A')"
   ]
  },
  {
   "cell_type": "code",
   "execution_count": null,
   "id": "e61f5a50",
   "metadata": {},
   "outputs": [],
   "source": []
  },
  {
   "cell_type": "code",
   "execution_count": null,
   "id": "f85ffde0",
   "metadata": {},
   "outputs": [],
   "source": []
  }
 ],
 "metadata": {
  "kernelspec": {
   "display_name": "Python 3 (ipykernel)",
   "language": "python",
   "name": "python3"
  },
  "language_info": {
   "codemirror_mode": {
    "name": "ipython",
    "version": 3
   },
   "file_extension": ".py",
   "mimetype": "text/x-python",
   "name": "python",
   "nbconvert_exporter": "python",
   "pygments_lexer": "ipython3",
   "version": "3.9.7"
  }
 },
 "nbformat": 4,
 "nbformat_minor": 5
}
