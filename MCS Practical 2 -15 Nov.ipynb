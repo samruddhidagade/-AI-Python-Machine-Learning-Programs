{
 "cells": [
  {
   "cell_type": "markdown",
   "id": "15d8a58a",
   "metadata": {},
   "source": [
    "# Prog 1  (Chatbot)"
   ]
  },
  {
   "cell_type": "code",
   "execution_count": 14,
   "id": "6a8cc9f7",
   "metadata": {},
   "outputs": [
    {
     "name": "stdout",
     "output_type": "stream",
     "text": [
      "What is the name of your institution?\n",
      "Indira College of Commerce and Science\n"
     ]
    }
   ],
   "source": [
    "dict = {\n",
    "    \"hi\" : \"Hello\",\n",
    "    \"who are you?\" : \"I am ChatBot\",\n",
    "    \"what is your name?\" : \"My name is skld\",\n",
    "    \"what is the name of your institution?\" : \"Indira College of Commerce and Science\"\n",
    "}\n",
    "\n",
    "a = input().lower()\n",
    "\n",
    "if a in dict:\n",
    "    print(dict[a])\n",
    "else:\n",
    "    print(\"Invalid Input, I don't know the answer !!\")"
   ]
  },
  {
   "cell_type": "markdown",
   "id": "4c398c32",
   "metadata": {},
   "source": [
    "# Prog 1 (Another way for ChatBot prog)"
   ]
  },
  {
   "cell_type": "code",
   "execution_count": 14,
   "id": "73ebc77c",
   "metadata": {},
   "outputs": [
    {
     "name": "stdout",
     "output_type": "stream",
     "text": [
      "who are you ?\n",
      "I am chatbot\n"
     ]
    }
   ],
   "source": [
    "mylist = [\"hi\",\"Hello\",\n",
    "         \"who are you ?\",\"I am chatbot\",\n",
    "         \"what is your name ?\",\"My name is alexa\"]\n",
    "chat = input().lower()\n",
    "if chat in mylist:\n",
    "    if(mylist[0]==chat):\n",
    "        print(mylist[1])\n",
    "    elif(mylist[2]==chat):\n",
    "        print(mylist[3])\n",
    "    elif(mylist[4]==chat):\n",
    "        print(mylist[5])\n",
    " "
   ]
  },
  {
   "cell_type": "markdown",
   "id": "82863068",
   "metadata": {},
   "source": [
    "# Prog 2 -  Area of square "
   ]
  },
  {
   "cell_type": "code",
   "execution_count": 15,
   "id": "1a2b2dec",
   "metadata": {},
   "outputs": [
    {
     "name": "stdout",
     "output_type": "stream",
     "text": [
      "\n",
      " Enter the side :--> 4\n",
      "\n",
      " Area of square :-->  16.0\n"
     ]
    }
   ],
   "source": [
    "def areaofsquare(side):\n",
    "    area = side * side;\n",
    "    return area\n",
    " \n",
    "num = float(input(\"\\n Enter the side :--> \"))\n",
    "print(\"\\n Area of square :--> \",areaofsquare(num))\n"
   ]
  },
  {
   "cell_type": "markdown",
   "id": "4a0111ce",
   "metadata": {},
   "source": [
    "# Prog 4 - Area of circle "
   ]
  },
  {
   "cell_type": "code",
   "execution_count": 16,
   "id": "b2864b88",
   "metadata": {},
   "outputs": [
    {
     "name": "stdout",
     "output_type": "stream",
     "text": [
      "\n",
      " Enter the radius :--> 2\n",
      "\n",
      " Area of circle :-->  12.56\n"
     ]
    }
   ],
   "source": [
    "def areaofcircle(r):\n",
    "  area = 3.14*r*r;\n",
    "  return area\n",
    "r = float(input(\"\\n Enter the radius :--> \"))\n",
    "print(\"\\n Area of circle :--> \",areaofcircle(r))\n"
   ]
  },
  {
   "cell_type": "markdown",
   "id": "552c5fe8",
   "metadata": {},
   "source": [
    "# Prog3 - Area of Triangle"
   ]
  },
  {
   "cell_type": "code",
   "execution_count": 17,
   "id": "4a73bb2e",
   "metadata": {},
   "outputs": [
    {
     "name": "stdout",
     "output_type": "stream",
     "text": [
      "\n",
      " Enter the breadth :--> 2\n",
      "\n",
      " Enter the height :--> 3\n",
      "\n",
      " Area of triangle :-->  3.0\n"
     ]
    }
   ],
   "source": [
    "def areaoftriangle(b,h):\n",
    "  area = 0.5*b*h;\n",
    "  return area\n",
    "num1 = float(input(\"\\n Enter the breadth :--> \"))\n",
    "num2 = float(input(\"\\n Enter the height :--> \"))\n",
    "print(\"\\n Area of triangle :--> \",areaoftriangle(num1,num2))\n"
   ]
  },
  {
   "cell_type": "code",
   "execution_count": null,
   "id": "8621c873",
   "metadata": {},
   "outputs": [],
   "source": []
  }
 ],
 "metadata": {
  "kernelspec": {
   "display_name": "Python 3 (ipykernel)",
   "language": "python",
   "name": "python3"
  },
  "language_info": {
   "codemirror_mode": {
    "name": "ipython",
    "version": 3
   },
   "file_extension": ".py",
   "mimetype": "text/x-python",
   "name": "python",
   "nbconvert_exporter": "python",
   "pygments_lexer": "ipython3",
   "version": "3.9.7"
  }
 },
 "nbformat": 4,
 "nbformat_minor": 5
}
