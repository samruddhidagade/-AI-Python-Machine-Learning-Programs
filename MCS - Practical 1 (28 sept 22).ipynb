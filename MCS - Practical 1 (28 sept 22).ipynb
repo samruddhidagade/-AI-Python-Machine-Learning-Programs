{
 "cells": [
  {
   "cell_type": "markdown",
   "id": "ce1d3461",
   "metadata": {},
   "source": [
    "# Prog 1 - To print Hello "
   ]
  },
  {
   "cell_type": "code",
   "execution_count": 1,
   "id": "92ef9bb2",
   "metadata": {},
   "outputs": [
    {
     "name": "stdout",
     "output_type": "stream",
     "text": [
      "Hello\n"
     ]
    }
   ],
   "source": [
    "print(\"Hello\");"
   ]
  },
  {
   "cell_type": "markdown",
   "id": "eb097c12",
   "metadata": {},
   "source": [
    "# Prog 2 - To print the given sentence"
   ]
  },
  {
   "cell_type": "code",
   "execution_count": 4,
   "id": "6f8432b6",
   "metadata": {},
   "outputs": [
    {
     "name": "stdout",
     "output_type": "stream",
     "text": [
      "The purpose of our lives is to be happy\n"
     ]
    }
   ],
   "source": [
    "a = \"\"\"The purpose of our lives is to be happy\"\"\"\n",
    "print (a)\n",
    "\n",
    "#Python can use single,double,triple quotes to print the sentence "
   ]
  },
  {
   "cell_type": "code",
   "execution_count": 10,
   "id": "e2c7ac6b",
   "metadata": {},
   "outputs": [
    {
     "name": "stdout",
     "output_type": "stream",
     "text": [
      "e\n",
      "!\n"
     ]
    }
   ],
   "source": [
    "a = \"Hello World!\"\n",
    "print(a[1])\n",
    "a = \"Hello World !\"\n",
    "print(a[-1])\n",
    "\n",
    "#Strings in Python are arrays of bytes representing unicode characters. For eg here a[0]=H a[1]=e and so on\n",
    "# Similarly a[-1]=! a[-2]=d and so on"
   ]
  },
  {
   "cell_type": "markdown",
   "id": "fa6b1371",
   "metadata": {},
   "source": [
    "# Prog 3 - For loop"
   ]
  },
  {
   "cell_type": "code",
   "execution_count": 1,
   "id": "478b2d98",
   "metadata": {},
   "outputs": [
    {
     "name": "stdout",
     "output_type": "stream",
     "text": [
      "b\n",
      "a\n",
      "n\n",
      "a\n",
      "n\n",
      "a\n"
     ]
    }
   ],
   "source": [
    "for x in \"banana\":\n",
    "    print(x)"
   ]
  },
  {
   "cell_type": "markdown",
   "id": "27d825f9",
   "metadata": {},
   "source": [
    "# Prog 4 : Length Function"
   ]
  },
  {
   "cell_type": "code",
   "execution_count": 2,
   "id": "41106e60",
   "metadata": {},
   "outputs": [
    {
     "name": "stdout",
     "output_type": "stream",
     "text": [
      "13\n"
     ]
    }
   ],
   "source": [
    "a = \"Hello World !\"\n",
    "print(len(a))\n",
    "#len() function is used to find the length of string"
   ]
  },
  {
   "cell_type": "markdown",
   "id": "76084d5d",
   "metadata": {},
   "source": [
    "# Prog 5 : Use in keyword "
   ]
  },
  {
   "cell_type": "code",
   "execution_count": 3,
   "id": "0b1f0a3f",
   "metadata": {},
   "outputs": [
    {
     "name": "stdout",
     "output_type": "stream",
     "text": [
      "True\n"
     ]
    }
   ],
   "source": [
    "#To check if a certain phrase or character is present in a string we can use 'in' keyword\n",
    "text = \"How are you ?\"\n",
    "print(\"are\" in text)"
   ]
  },
  {
   "cell_type": "code",
   "execution_count": 4,
   "id": "967e22bf",
   "metadata": {},
   "outputs": [
    {
     "name": "stdout",
     "output_type": "stream",
     "text": [
      "False\n"
     ]
    }
   ],
   "source": [
    "text = \"How are you ?\"\n",
    "print(\"is\" in text)"
   ]
  },
  {
   "cell_type": "markdown",
   "id": "c9033650",
   "metadata": {},
   "source": [
    "# Prog 6 : Use not in keyword"
   ]
  },
  {
   "cell_type": "code",
   "execution_count": 5,
   "id": "b0221a50",
   "metadata": {},
   "outputs": [
    {
     "name": "stdout",
     "output_type": "stream",
     "text": [
      "True\n"
     ]
    }
   ],
   "source": [
    "#To check if a certain phrase or character is not present in a string we can use 'in' keyword\n",
    "text = \"How are you ?\"\n",
    "print(\"is\" not in text)"
   ]
  },
  {
   "cell_type": "code",
   "execution_count": 6,
   "id": "733d97f9",
   "metadata": {},
   "outputs": [
    {
     "name": "stdout",
     "output_type": "stream",
     "text": [
      "False\n"
     ]
    }
   ],
   "source": [
    "text = \"How are you ?\"\n",
    "print(\"are\" not in text)"
   ]
  },
  {
   "cell_type": "markdown",
   "id": "d8f01844",
   "metadata": {},
   "source": [
    "# Prog 7 : Slicing"
   ]
  },
  {
   "cell_type": "code",
   "execution_count": 8,
   "id": "fd1b2475",
   "metadata": {},
   "outputs": [
    {
     "name": "stdout",
     "output_type": "stream",
     "text": [
      "llo\n"
     ]
    }
   ],
   "source": [
    "#We can return a range of characters by using the slice of characters\n",
    "b = \"Hello World!\"\n",
    "print(b[2:5])\n",
    "#This slicing starts at 2 and end at 4 that is starts at m and end at n-1"
   ]
  },
  {
   "cell_type": "code",
   "execution_count": 10,
   "id": "e1609b83",
   "metadata": {},
   "outputs": [
    {
     "name": "stdout",
     "output_type": "stream",
     "text": [
      "Hello\n"
     ]
    }
   ],
   "source": [
    "b = \"Hello World!\"\n",
    "print(b[:5])\n",
    "#I starts at 0 and ends at 4"
   ]
  },
  {
   "cell_type": "code",
   "execution_count": 11,
   "id": "dd7997ec",
   "metadata": {},
   "outputs": [
    {
     "name": "stdout",
     "output_type": "stream",
     "text": [
      "llo World!\n"
     ]
    }
   ],
   "source": [
    "b = \"Hello World!\"\n",
    "print(b[2:])"
   ]
  },
  {
   "cell_type": "code",
   "execution_count": 13,
   "id": "d3e31031",
   "metadata": {},
   "outputs": [
    {
     "name": "stdout",
     "output_type": "stream",
     "text": [
      "orl\n"
     ]
    }
   ],
   "source": [
    "b = \"Hello World!\"\n",
    "print(b[-5:-2])"
   ]
  },
  {
   "cell_type": "markdown",
   "id": "c7cb28bf",
   "metadata": {},
   "source": [
    "# Prog 8 : Convert into UpperCase"
   ]
  },
  {
   "cell_type": "code",
   "execution_count": 14,
   "id": "adde43e4",
   "metadata": {},
   "outputs": [
    {
     "name": "stdout",
     "output_type": "stream",
     "text": [
      "HELLO THERE..\n"
     ]
    }
   ],
   "source": [
    "a=\"Hello there..\"\n",
    "print(a.upper())\n",
    "#upper() method returns the string in upper case"
   ]
  },
  {
   "cell_type": "markdown",
   "id": "6fb06c11",
   "metadata": {},
   "source": [
    "# Prog 9 : Convert into LowerCase"
   ]
  },
  {
   "cell_type": "code",
   "execution_count": 16,
   "id": "0b0e02d4",
   "metadata": {},
   "outputs": [
    {
     "name": "stdout",
     "output_type": "stream",
     "text": [
      "hello there..\n"
     ]
    }
   ],
   "source": [
    "a=\"Hello TherE..\"\n",
    "print(a.lower())\n",
    "#lower() method returns the string in lower case"
   ]
  },
  {
   "cell_type": "markdown",
   "id": "bc3e4d93",
   "metadata": {},
   "source": [
    "# Prog 10 : Remove WhiteSpace"
   ]
  },
  {
   "cell_type": "code",
   "execution_count": 19,
   "id": "65744ede",
   "metadata": {},
   "outputs": [
    {
     "name": "stdout",
     "output_type": "stream",
     "text": [
      "Have a good day !!\n"
     ]
    }
   ],
   "source": [
    "a=\" Have a good day!! \"\n",
    "print(a.strip())"
   ]
  },
  {
   "cell_type": "markdown",
   "id": "f0338d7f",
   "metadata": {},
   "source": [
    "# Prog 11 : Replace String"
   ]
  },
  {
   "cell_type": "code",
   "execution_count": 24,
   "id": "2472147c",
   "metadata": {},
   "outputs": [
    {
     "name": "stdout",
     "output_type": "stream",
     "text": [
      "Jave a good day!!\n"
     ]
    }
   ],
   "source": [
    "a=\"Have a good day!!\"\n",
    "print(a.replace(\"H\",\"J\"))\n",
    "#replace() method replaces a string or charracter with another string or character"
   ]
  },
  {
   "cell_type": "markdown",
   "id": "9386636e",
   "metadata": {},
   "source": [
    "# Prog 12 : Split the String"
   ]
  },
  {
   "cell_type": "code",
   "execution_count": 25,
   "id": "ea8ec800",
   "metadata": {},
   "outputs": [
    {
     "name": "stdout",
     "output_type": "stream",
     "text": [
      "['Have ', 'a', 'good', ' day!!']\n"
     ]
    }
   ],
   "source": [
    "a=\"Have ,a,good, day!!\"\n",
    "print(a.split(\",\"))\n",
    "#split() method splits the string into substrings"
   ]
  },
  {
   "cell_type": "markdown",
   "id": "fbfa5701",
   "metadata": {},
   "source": [
    "# Prog 13 : String concatenation"
   ]
  },
  {
   "cell_type": "code",
   "execution_count": 27,
   "id": "2acd4c08",
   "metadata": {},
   "outputs": [
    {
     "name": "stdout",
     "output_type": "stream",
     "text": [
      "SamruddhiDagade\n"
     ]
    }
   ],
   "source": [
    "a=\"Samruddhi\"\n",
    "b=\"Dagade\"\n",
    "c=a+b\n",
    "print(c)"
   ]
  },
  {
   "cell_type": "code",
   "execution_count": 28,
   "id": "9a9983af",
   "metadata": {},
   "outputs": [
    {
     "name": "stdout",
     "output_type": "stream",
     "text": [
      "Samruddhi Dagade\n"
     ]
    }
   ],
   "source": [
    "a=\"Samruddhi\"\n",
    "b=\"Dagade\"\n",
    "c=a+\" \"+b\n",
    "print(c)"
   ]
  },
  {
   "cell_type": "markdown",
   "id": "c5bba249",
   "metadata": {},
   "source": [
    "# Prog 14 : Format() Method"
   ]
  },
  {
   "cell_type": "code",
   "execution_count": 30,
   "id": "6cba7684",
   "metadata": {},
   "outputs": [
    {
     "name": "stdout",
     "output_type": "stream",
     "text": [
      "My name is John and I am 36\n"
     ]
    }
   ],
   "source": [
    "age = 36\n",
    "text = \"My name is John and I am {}\"\n",
    "print(text.format(age))\n",
    "#The format() method takes the arguments, then formats them and lastly places them in in the string where the placeholders {} are there."
   ]
  },
  {
   "cell_type": "markdown",
   "id": "74325ef9",
   "metadata": {},
   "source": [
    "# Prog 15 : Escape Character"
   ]
  },
  {
   "cell_type": "code",
   "execution_count": 37,
   "id": "b0666c86",
   "metadata": {},
   "outputs": [
    {
     "name": "stdout",
     "output_type": "stream",
     "text": [
      "We are the so-called\tAfgani\tfrom the Afganisthan\n"
     ]
    }
   ],
   "source": [
    "text = \"We are the so-called\\tAfgani\\tfrom the Afganisthan\"\n",
    "print(text)"
   ]
  },
  {
   "cell_type": "code",
   "execution_count": null,
   "id": "af399622",
   "metadata": {},
   "outputs": [],
   "source": []
  }
 ],
 "metadata": {
  "kernelspec": {
   "display_name": "Python 3 (ipykernel)",
   "language": "python",
   "name": "python3"
  },
  "language_info": {
   "codemirror_mode": {
    "name": "ipython",
    "version": 3
   },
   "file_extension": ".py",
   "mimetype": "text/x-python",
   "name": "python",
   "nbconvert_exporter": "python",
   "pygments_lexer": "ipython3",
   "version": "3.9.7"
  }
 },
 "nbformat": 4,
 "nbformat_minor": 5
}
